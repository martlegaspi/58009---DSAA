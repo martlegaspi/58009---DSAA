{
  "nbformat": 4,
  "nbformat_minor": 0,
  "metadata": {
    "colab": {
      "provenance": [],
      "authorship_tag": "ABX9TyN0pAe4tlode/ymchoyW439",
      "include_colab_link": true
    },
    "kernelspec": {
      "name": "python3",
      "display_name": "Python 3"
    },
    "language_info": {
      "name": "python"
    }
  },
  "cells": [
    {
      "cell_type": "markdown",
      "metadata": {
        "id": "view-in-github",
        "colab_type": "text"
      },
      "source": [
        "<a href=\"https://colab.research.google.com/github/martlegaspi/58009---DSAA/blob/main/Prelim_Exam.ipynb\" target=\"_parent\"><img src=\"https://colab.research.google.com/assets/colab-badge.svg\" alt=\"Open In Colab\"/></a>"
      ]
    },
    {
      "cell_type": "code",
      "execution_count": 4,
      "metadata": {
        "colab": {
          "base_uri": "https://localhost:8080/"
        },
        "id": "9-lviHbX7ZHM",
        "outputId": "12499bad-66e8-4882-be8f-ad93d4f01a77"
      },
      "outputs": [
        {
          "output_type": "stream",
          "name": "stdout",
          "text": [
            "The test score are: [26, 49, 98, 87, 62, 75]\n",
            "The test scores in ascending order: [26, 49, 62, 75, 87, 98]\n"
          ]
        }
      ],
      "source": [
        "score = [26, 49, 98, 87, 62, 75]\n",
        "\n",
        "print('The test score are:', score)\n",
        "\n",
        "score.sort()\n",
        "print('The test scores in ascending order:', score)"
      ]
    }
  ]
}