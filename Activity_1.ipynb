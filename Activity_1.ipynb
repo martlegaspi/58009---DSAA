{
  "nbformat": 4,
  "nbformat_minor": 0,
  "metadata": {
    "colab": {
      "provenance": [],
      "authorship_tag": "ABX9TyNY1mETUXuKJ3I4T62R8Che",
      "include_colab_link": true
    },
    "kernelspec": {
      "name": "python3",
      "display_name": "Python 3"
    },
    "language_info": {
      "name": "python"
    }
  },
  "cells": [
    {
      "cell_type": "markdown",
      "metadata": {
        "id": "view-in-github",
        "colab_type": "text"
      },
      "source": [
        "<a href=\"https://colab.research.google.com/github/martlegaspi/58009---DSAA/blob/main/Activity_1.ipynb\" target=\"_parent\"><img src=\"https://colab.research.google.com/assets/colab-badge.svg\" alt=\"Open In Colab\"/></a>"
      ]
    },
    {
      "cell_type": "code",
      "execution_count": 30,
      "metadata": {
        "colab": {
          "base_uri": "https://localhost:8080/"
        },
        "id": "kbwaIIPCe4I0",
        "outputId": "d7b58b66-42eb-415a-88e5-7e5f4de49582"
      },
      "outputs": [
        {
          "output_type": "stream",
          "name": "stdout",
          "text": [
            "The array is: [43, 51, 68, 95, 12, 52, 75, 23, 34, 86]\n",
            "43\n",
            "51\n",
            "68\n",
            "95\n",
            "12\n",
            "52\n",
            "75\n",
            "23\n",
            "34\n",
            "86\n",
            "The sum of the array is: 539\n"
          ]
        }
      ],
      "source": [
        "#1. Write a Python program to create an array of 10 integers and display the array items. Access individual elements through indexes and compute for the sum.\n",
        "\n",
        "def add(array):\n",
        " sum = 0\n",
        " for x in array:\n",
        "    sum += x\n",
        " return sum\n",
        "\n",
        "def access(array):\n",
        " for x in array:\n",
        "  print(x)\n",
        "\n",
        "list = [43,51,68,95,12,52,75,23,34,86]\n",
        "\n",
        "print('The array is:', list)\n",
        "access(list)\n",
        "print('The sum of the array is:', add(list))"
      ]
    },
    {
      "cell_type": "code",
      "source": [
        "#2. Write a Python program to append a new item to the end of the array. Original array: numbers = [1, 2, 3, 4, 5, 6, 7, 8, 9, 10]\n",
        "\n",
        "numbers = [1, 2, 3, 4, 5, 6, 7, 8, 9, 10]\n",
        "\n",
        "print('This is the original array:', numbers)\n",
        "numbers.append(int(input('Enter a whole number to add to the end of the array:')))\n",
        "print(numbers)\n",
        "\n"
      ],
      "metadata": {
        "colab": {
          "base_uri": "https://localhost:8080/"
        },
        "id": "KwaijADzhTA5",
        "outputId": "7f53f192-3cc8-4d1b-c809-4c42d6777ce6"
      },
      "execution_count": 27,
      "outputs": [
        {
          "output_type": "stream",
          "name": "stdout",
          "text": [
            "This is the original array: [1, 2, 3, 4, 5, 6, 7, 8, 9, 10]\n",
            "Enter a whole number to add to the end of the array:13\n",
            "[1, 2, 3, 4, 5, 6, 7, 8, 9, 10, 13]\n"
          ]
        }
      ]
    },
    {
      "cell_type": "code",
      "source": [
        "#3. Write a Python program to insert a new item before the second element in an existing array. Original array: numbers = [1, 2, 3, 4, 5, 6, 7, 8, 9, 10]\n",
        "\n",
        "numbers = [1, 2, 3, 4, 5, 6, 7, 8, 9, 10]\n",
        "\n",
        "print('This is the original array:', numbers)\n",
        "numbers.insert(1, int(input('Enter a whole number to add before the second element of the array:')))\n",
        "print(numbers)"
      ],
      "metadata": {
        "colab": {
          "base_uri": "https://localhost:8080/"
        },
        "id": "x03t_w5imv0u",
        "outputId": "665979e9-e60b-4fe1-bd36-568944dca290"
      },
      "execution_count": 28,
      "outputs": [
        {
          "output_type": "stream",
          "name": "stdout",
          "text": [
            "This is the original array: [1, 2, 3, 4, 5, 6, 7, 8, 9, 10]\n",
            "Enter a whole number to add before the second element of the array:12\n",
            "[1, 12, 2, 3, 4, 5, 6, 7, 8, 9, 10]\n"
          ]
        }
      ]
    },
    {
      "cell_type": "code",
      "source": [
        "#4. Write a Python program to reverse the order of the items in the array.Original array: numbers = [5, 4, 3, 2, 1]\n",
        "\n",
        "numbers = [5, 4, 3, 2, 1]\n",
        "print('This is the original array:', numbers)\n",
        "numbers.sort()\n",
        "print('This is the reverse order of the array:', numbers)\n"
      ],
      "metadata": {
        "colab": {
          "base_uri": "https://localhost:8080/"
        },
        "id": "zMXQgdPDor87",
        "outputId": "1d731d28-4c9a-4493-8853-2edc127de1f5"
      },
      "execution_count": 25,
      "outputs": [
        {
          "output_type": "stream",
          "name": "stdout",
          "text": [
            "This is the original array: [5, 4, 3, 2, 1]\n",
            "This is the reverse order of the array: [1, 2, 3, 4, 5]\n"
          ]
        }
      ]
    },
    {
      "cell_type": "code",
      "source": [
        "#5. Write a Python program to get the length of the array. Original array: numbers = [5, 4, 3, 2, 1]\n",
        "\n",
        "numbers = [5, 4, 3, 2, 1]\n",
        "print('This is the original array:', numbers)\n",
        "x = len(numbers)\n",
        "print('The length of the original array is:', x)\n"
      ],
      "metadata": {
        "colab": {
          "base_uri": "https://localhost:8080/"
        },
        "id": "Vilez_mxpkEZ",
        "outputId": "6e5271e1-5c5a-483f-a8d4-c4a0819f58ae"
      },
      "execution_count": 29,
      "outputs": [
        {
          "output_type": "stream",
          "name": "stdout",
          "text": [
            "This is the original array: [5, 4, 3, 2, 1]\n",
            "The length of the original array is: 5\n"
          ]
        }
      ]
    }
  ]
}