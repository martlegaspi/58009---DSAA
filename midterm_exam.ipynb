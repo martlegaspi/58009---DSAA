{
  "nbformat": 4,
  "nbformat_minor": 0,
  "metadata": {
    "colab": {
      "provenance": [],
      "authorship_tag": "ABX9TyM1YQGZfqx6GSqPMTbx1HEe",
      "include_colab_link": true
    },
    "kernelspec": {
      "name": "python3",
      "display_name": "Python 3"
    },
    "language_info": {
      "name": "python"
    }
  },
  "cells": [
    {
      "cell_type": "markdown",
      "metadata": {
        "id": "view-in-github",
        "colab_type": "text"
      },
      "source": [
        "<a href=\"https://colab.research.google.com/github/martlegaspi/58009---DSAA/blob/main/midterm_exam.ipynb\" target=\"_parent\"><img src=\"https://colab.research.google.com/assets/colab-badge.svg\" alt=\"Open In Colab\"/></a>"
      ]
    },
    {
      "cell_type": "code",
      "execution_count": 8,
      "metadata": {
        "id": "Y2R1cq1AKUh0",
        "colab": {
          "base_uri": "https://localhost:8080/"
        },
        "outputId": "04ed5329-5545-4da6-a41e-820b0519a633"
      },
      "outputs": [
        {
          "output_type": "stream",
          "name": "stdout",
          "text": [
            "The graph vertices = ['A', 'B', 'C', 'D', 'E', 'F', 'G', 'I', 'J', 'K', 'L', 'M', 'N', 'O', 'P']\n",
            "\n",
            "The graph edges = [{'A', 'B'}, {'C', 'B'}, {'E', 'B'}, {'B', 'F'}, {'D', 'C'}, {'E', 'C'}, {'C', 'F'}, {'C', 'I'}, {'C', 'M'}, {'D', 'K'}, {'D', 'L'}, {'E', 'N'}, {'G', 'F'}, {'F', 'I'}, {'G', 'I'}, {'G', 'J'}, {'J', 'I'}, {'K', 'I'}, {'K', 'J'}, {'M', 'L'}, {'P', 'L'}, {'N', 'M'}, {'O', 'M'}, {'P', 'M'}, {'N', 'O'}, {'O', 'P'}]\n"
          ]
        }
      ],
      "source": [
        "class graph:\n",
        "\n",
        "   def __init__(self,gd1=None):\n",
        "      if gd1 is None:\n",
        "         gd1 = []\n",
        "      self.gd1 = gd1\n",
        "\n",
        "   def vertices(self):\n",
        "      return list(self.gd1.keys())\n",
        "\n",
        "   def edges(self):\n",
        "      return self.find()\n",
        "\n",
        "   def find(self):\n",
        "      ename = []\n",
        "      for vrtx in self.gd1:\n",
        "         for nxtvrtx in self.gd1[vrtx]:\n",
        "            if {nxtvrtx, vrtx} not in ename:\n",
        "               ename.append({vrtx, nxtvrtx})\n",
        "      return ename\n",
        "\n",
        "gelem = {\n",
        "   \"A\" : [\"B\"],\n",
        "   \"B\" : [\"A\",\"C\",\"E\",\"F\"],\n",
        "   \"C\" : [\"B\",\"D\",\"E\",\"F\",\"I\",\"M\"],\n",
        "   \"D\" : [\"C\",\"K\",\"L\"],\n",
        "   \"E\" : [\"B\",\"C\",\"N\"],\n",
        "   \"F\" : [\"B\",\"C\",\"G\",\"I\"],\n",
        "   \"G\" : [\"F\",\"I\",\"J\"],\n",
        "   \"I\" : [\"C\",\"F\",\"G\",\"J\",\"K\"],\n",
        "   \"J\" : [\"G\",\"I\",\"K\"],\n",
        "   \"K\" : [\"D\",\"I\",\"J\"],\n",
        "   \"L\" : [\"D\",\"M\",\"P\"],\n",
        "   \"M\" : [\"C\",\"L\",\"N\",\"O\",\"P\"],\n",
        "   \"N\" : [\"E\",\"M\",\"O\"],\n",
        "   \"O\" : [\"M\",\"N\",\"P\"],\n",
        "   \"P\" : [\"L\",\"M\",\"O\"]\n",
        "}\n",
        "g = graph(gelem)\n",
        "print(\"The graph vertices =\",g.vertices())\n",
        "print(\"\\nThe graph edges =\",g.edges())"
      ]
    }
  ]
}