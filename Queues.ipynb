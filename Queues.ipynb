{
  "nbformat": 4,
  "nbformat_minor": 0,
  "metadata": {
    "colab": {
      "provenance": [],
      "authorship_tag": "ABX9TyN2Xu6e4i0r/JxchnSRt2nN",
      "include_colab_link": true
    },
    "kernelspec": {
      "name": "python3",
      "display_name": "Python 3"
    },
    "language_info": {
      "name": "python"
    }
  },
  "cells": [
    {
      "cell_type": "markdown",
      "metadata": {
        "id": "view-in-github",
        "colab_type": "text"
      },
      "source": [
        "<a href=\"https://colab.research.google.com/github/martlegaspi/58009---DSAA/blob/main/Queues.ipynb\" target=\"_parent\"><img src=\"https://colab.research.google.com/assets/colab-badge.svg\" alt=\"Open In Colab\"/></a>"
      ]
    },
    {
      "cell_type": "code",
      "execution_count": null,
      "metadata": {
        "colab": {
          "base_uri": "https://localhost:8080/"
        },
        "id": "NAbHDXw9i1lN",
        "outputId": "acea3243-02d3-4c4b-e501-0fdf52b60c12"
      },
      "outputs": [
        {
          "output_type": "stream",
          "name": "stdout",
          "text": [
            "['A', 'B', 'C']\n",
            "A\n",
            "B\n",
            "C\n",
            "[]\n"
          ]
        }
      ],
      "source": [
        "queue = []\n",
        "#enqueue items into queue\n",
        "queue.append('A')\n",
        "queue.append('B')\n",
        "queue.append('C')\n",
        "print(queue)\n",
        "\n",
        "#dequeue items from the queues\n",
        "print(queue.pop(0))\n",
        "print(queue.pop(0))\n",
        "print(queue.pop(0))\n",
        "print(queue)"
      ]
    },
    {
      "cell_type": "code",
      "source": [
        "#Activity 4\n",
        "queue = []\n",
        "while True:\n",
        "  x = input('\\nEnter either y to enqueue orders, n to dequeue orders, or x to exit: ')\n",
        "  if x == 'y':\n",
        "   queue.append(input('Enter an order into queue: '))\n",
        "   print(queue)\n",
        "  elif x == 'n':\n",
        "   if len(queue) <= 0:\n",
        "    print('No orders in the queue')\n",
        "    print(queue)\n",
        "   else:\n",
        "    print(queue.pop(0), 'was remove from the queue')\n",
        "    print(queue)\n",
        "  elif x == 'x':\n",
        "    print('You exited the program')\n",
        "    break\n",
        "  else:\n",
        "   print('You did not enter either y, n, or x')"
      ],
      "metadata": {
        "id": "jBu3qqX1lpXB",
        "colab": {
          "base_uri": "https://localhost:8080/"
        },
        "outputId": "c4feb139-7cde-42d5-eac5-ddfcb22a5853"
      },
      "execution_count": 67,
      "outputs": [
        {
          "output_type": "stream",
          "name": "stdout",
          "text": [
            "\n",
            "Enter either y to enqueue orders, n to dequeue orders, or x to exit: y\n",
            "Enter an order into queue: 1 burger 1 fries 2 soda\n",
            "['1 burger 1 fries 2 soda']\n",
            "\n",
            "Enter either y to enqueue orders, n to dequeue orders, or x to exit: y\n",
            "Enter an order into queue: 2 burgers 2 soda\n",
            "['1 burger 1 fries 2 soda', '2 burgers 2 soda']\n",
            "\n",
            "Enter either y to enqueue orders, n to dequeue orders, or x to exit: y\n",
            "Enter an order into queue: 1 burger 1 fries\n",
            "['1 burger 1 fries 2 soda', '2 burgers 2 soda', '1 burger 1 fries']\n",
            "\n",
            "Enter either y to enqueue orders, n to dequeue orders, or x to exit: n\n",
            "1 burger 1 fries 2 soda was remove from the queue\n",
            "['2 burgers 2 soda', '1 burger 1 fries']\n",
            "\n",
            "Enter either y to enqueue orders, n to dequeue orders, or x to exit: n\n",
            "2 burgers 2 soda was remove from the queue\n",
            "['1 burger 1 fries']\n",
            "\n",
            "Enter either y to enqueue orders, n to dequeue orders, or x to exit: n\n",
            "1 burger 1 fries was remove from the queue\n",
            "[]\n",
            "\n",
            "Enter either y to enqueue orders, n to dequeue orders, or x to exit: n\n",
            "No orders in the queue\n",
            "[]\n",
            "\n",
            "Enter either y to enqueue orders, n to dequeue orders, or x to exit: a\n",
            "You did not enter either y, n, or x\n",
            "\n",
            "Enter either y to enqueue orders, n to dequeue orders, or x to exit: x\n",
            "You exited the program\n"
          ]
        }
      ]
    }
  ]
}