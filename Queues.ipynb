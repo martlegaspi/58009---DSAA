{
  "nbformat": 4,
  "nbformat_minor": 0,
  "metadata": {
    "colab": {
      "provenance": [],
      "authorship_tag": "ABX9TyO4HvwFOgzAgByoLrjbPbPU",
      "include_colab_link": true
    },
    "kernelspec": {
      "name": "python3",
      "display_name": "Python 3"
    },
    "language_info": {
      "name": "python"
    }
  },
  "cells": [
    {
      "cell_type": "markdown",
      "metadata": {
        "id": "view-in-github",
        "colab_type": "text"
      },
      "source": [
        "<a href=\"https://colab.research.google.com/github/martlegaspi/58009---DSAA/blob/main/Queues.ipynb\" target=\"_parent\"><img src=\"https://colab.research.google.com/assets/colab-badge.svg\" alt=\"Open In Colab\"/></a>"
      ]
    },
    {
      "cell_type": "code",
      "execution_count": null,
      "metadata": {
        "colab": {
          "base_uri": "https://localhost:8080/"
        },
        "id": "NAbHDXw9i1lN",
        "outputId": "acea3243-02d3-4c4b-e501-0fdf52b60c12"
      },
      "outputs": [
        {
          "output_type": "stream",
          "name": "stdout",
          "text": [
            "['A', 'B', 'C']\n",
            "A\n",
            "B\n",
            "C\n",
            "[]\n"
          ]
        }
      ],
      "source": [
        "queue = []\n",
        "#enqueue items into queue\n",
        "queue.append('A')\n",
        "queue.append('B')\n",
        "queue.append('C')\n",
        "print(queue)\n",
        "\n",
        "#dequeue items from the queues\n",
        "print(queue.pop(0))\n",
        "print(queue.pop(0))\n",
        "print(queue.pop(0))\n",
        "print(queue)"
      ]
    },
    {
      "cell_type": "code",
      "source": [
        "#Activity 4\n",
        "queue = []\n",
        "while True:\n",
        "  x = input('\\nEnter either y to enqueue, n to dequeue, or x to exit: ')\n",
        "  if x == 'y':\n",
        "   queue.append(input('Enter an element into queue: '))\n",
        "   print(queue)\n",
        "  elif x == 'n':\n",
        "   if len(queue) <= 0:\n",
        "    print('No element in the queue')\n",
        "    print(queue)\n",
        "   else:\n",
        "    print(queue.pop(0), 'was remove from the queue')\n",
        "    print(queue)\n",
        "  elif x == 'x':\n",
        "    print('You exited the program')\n",
        "    break\n",
        "  else:\n",
        "   print('You did not enter either y, n, or x')"
      ],
      "metadata": {
        "id": "jBu3qqX1lpXB",
        "colab": {
          "base_uri": "https://localhost:8080/"
        },
        "outputId": "88e551e8-6446-4692-dbc9-6c0cf561d4ec"
      },
      "execution_count": 66,
      "outputs": [
        {
          "output_type": "stream",
          "name": "stdout",
          "text": [
            "\n",
            "Enter either y to enqueue, n to dequeue, or x to exit: a\n",
            "You did not enter either y, n, or x\n",
            "\n",
            "Enter either y to enqueue, n to dequeue, or x to exit: n\n",
            "No element in the queue\n",
            "[]\n",
            "\n",
            "Enter either y to enqueue, n to dequeue, or x to exit: y\n",
            "Enter an element into queue: A\n",
            "['A']\n",
            "\n",
            "Enter either y to enqueue, n to dequeue, or x to exit: y\n",
            "Enter an element into queue: B\n",
            "['A', 'B']\n",
            "\n",
            "Enter either y to enqueue, n to dequeue, or x to exit: y\n",
            "Enter an element into queue: C\n",
            "['A', 'B', 'C']\n",
            "\n",
            "Enter either y to enqueue, n to dequeue, or x to exit: n\n",
            "A was remove from the queue\n",
            "['B', 'C']\n",
            "\n",
            "Enter either y to enqueue, n to dequeue, or x to exit: n\n",
            "B was remove from the queue\n",
            "['C']\n",
            "\n",
            "Enter either y to enqueue, n to dequeue, or x to exit: n\n",
            "C was remove from the queue\n",
            "[]\n",
            "\n",
            "Enter either y to enqueue, n to dequeue, or x to exit: x\n",
            "You exited the program\n"
          ]
        }
      ]
    }
  ]
}