{
  "nbformat": 4,
  "nbformat_minor": 0,
  "metadata": {
    "colab": {
      "provenance": [],
      "authorship_tag": "ABX9TyNJRbVvizzpYECINBCbPmzy",
      "include_colab_link": true
    },
    "kernelspec": {
      "name": "python3",
      "display_name": "Python 3"
    },
    "language_info": {
      "name": "python"
    }
  },
  "cells": [
    {
      "cell_type": "markdown",
      "metadata": {
        "id": "view-in-github",
        "colab_type": "text"
      },
      "source": [
        "<a href=\"https://colab.research.google.com/github/martlegaspi/58009---DSAA/blob/main/Practical_Lab_Exam.ipynb\" target=\"_parent\"><img src=\"https://colab.research.google.com/assets/colab-badge.svg\" alt=\"Open In Colab\"/></a>"
      ]
    },
    {
      "cell_type": "code",
      "execution_count": 34,
      "metadata": {
        "colab": {
          "base_uri": "https://localhost:8080/"
        },
        "id": "uiUuroFeXlu_",
        "outputId": "2503f8c5-89ee-4819-b2d6-ae423201f8b6"
      },
      "outputs": [
        {
          "output_type": "stream",
          "name": "stdout",
          "text": [
            "The sum of all odd numbers is:  211\n"
          ]
        }
      ],
      "source": [
        "def odd(array):\n",
        "    sum = 0\n",
        "    for x in array:\n",
        "        if x%2 == 1:\n",
        "            sum += x\n",
        "    return sum\n",
        "\n",
        "score  = [26,49,98,87,62,75]\n",
        "\n",
        "print(\"The sum of all odd numbers is: \", odd(score))"
      ]
    }
  ]
}