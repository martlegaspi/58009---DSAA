{
  "nbformat": 4,
  "nbformat_minor": 0,
  "metadata": {
    "colab": {
      "provenance": [],
      "authorship_tag": "ABX9TyOlJ0fzSagRVOXE6HXzc/8b",
      "include_colab_link": true
    },
    "kernelspec": {
      "name": "python3",
      "display_name": "Python 3"
    },
    "language_info": {
      "name": "python"
    }
  },
  "cells": [
    {
      "cell_type": "markdown",
      "metadata": {
        "id": "view-in-github",
        "colab_type": "text"
      },
      "source": [
        "<a href=\"https://colab.research.google.com/github/martlegaspi/58009---DSAA/blob/main/Long_Quiz_1.ipynb\" target=\"_parent\"><img src=\"https://colab.research.google.com/assets/colab-badge.svg\" alt=\"Open In Colab\"/></a>"
      ]
    },
    {
      "cell_type": "code",
      "source": [
        "#1. Create a python or C++ program that appends each character of your full name and displays each character in reverse order (50 points)\n",
        "\n",
        "a = input('Enter your full name: ')\n",
        "\n",
        "print('Your full name is:', a)\n",
        "\n",
        "print('Your full name in reverse order:', a[::-1])"
      ],
      "metadata": {
        "colab": {
          "base_uri": "https://localhost:8080/"
        },
        "id": "SdX-4JBOBKb4",
        "outputId": "51776c03-e559-4494-c829-094636e98b06"
      },
      "execution_count": 24,
      "outputs": [
        {
          "output_type": "stream",
          "name": "stdout",
          "text": [
            "Enter your full name: Mart Joven C Legaspi\n",
            "Your full name is: Mart Joven C Legaspi\n",
            "Your full name in reverse order: ipsageL C nevoJ traM\n"
          ]
        }
      ]
    },
    {
      "cell_type": "code",
      "source": [
        "#2. Using the set of positive whole numbers from 1 to 10, create a python or C++ program that displays if it is prime or composite. (50 points)\n",
        "\n",
        "prime = []\n",
        "comp = []\n",
        "x = 2\n",
        "\n",
        "while (x <= 10):\n",
        " if x > 1:\n",
        "  for i in range(2, int(x/2)+1):\n",
        "   if (x % i) == 0:\n",
        "    print(x, 'is a composite number')\n",
        "    comp.append(x)\n",
        "    x += 1\n",
        "    break\n",
        "  else:\n",
        "    print(x, 'is a prime number')\n",
        "    prime.append(x)\n",
        "    x += 1\n",
        " else:\n",
        "  print(x, 'is a composite number')\n",
        "  comp.append(x)\n",
        "  x += 1\n",
        "\n",
        "print('The prime numbers are:', prime)\n",
        "print('The composite numbers are:', comp)"
      ],
      "metadata": {
        "colab": {
          "base_uri": "https://localhost:8080/"
        },
        "id": "BNfpTioQGjIT",
        "outputId": "a01ac765-6cfe-498c-c1ac-6f34b58fa12d"
      },
      "execution_count": 55,
      "outputs": [
        {
          "output_type": "stream",
          "name": "stdout",
          "text": [
            "2 is a prime number\n",
            "3 is a prime number\n",
            "4 is a composite number\n",
            "5 is a prime number\n",
            "6 is a composite number\n",
            "7 is a prime number\n",
            "8 is a composite number\n",
            "9 is a composite number\n",
            "10 is a composite number\n",
            "The prime numbers are: [2, 3, 5, 7]\n",
            "The composite numbers are: [4, 6, 8, 9, 10]\n"
          ]
        }
      ]
    }
  ]
}