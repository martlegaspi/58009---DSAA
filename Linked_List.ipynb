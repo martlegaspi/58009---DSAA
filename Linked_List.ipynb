{
  "nbformat": 4,
  "nbformat_minor": 0,
  "metadata": {
    "colab": {
      "provenance": [],
      "authorship_tag": "ABX9TyORNP5P6mXyyBxEoq/4aaI1",
      "include_colab_link": true
    },
    "kernelspec": {
      "name": "python3",
      "display_name": "Python 3"
    },
    "language_info": {
      "name": "python"
    }
  },
  "cells": [
    {
      "cell_type": "markdown",
      "metadata": {
        "id": "view-in-github",
        "colab_type": "text"
      },
      "source": [
        "<a href=\"https://colab.research.google.com/github/martlegaspi/58009---DSAA/blob/main/Linked_List.ipynb\" target=\"_parent\"><img src=\"https://colab.research.google.com/assets/colab-badge.svg\" alt=\"Open In Colab\"/></a>"
      ]
    },
    {
      "cell_type": "code",
      "source": [
        "#Singly Linked List\n",
        "# A simple Python program to introduce a linked list\n",
        "\n",
        "# Node class\n",
        "class Node:\n",
        " # Function to initialize the node object\n",
        " def __init__(self, data):\n",
        "  self.data = data # Assign data\n",
        "  self.next = None # Initialize next as null\n",
        "\n",
        "# Linked List class contains a Node object\n",
        "class LinkedList:\n",
        "\n",
        "  # Function to initialize head\n",
        "  def __init__(self):\n",
        "    self.head = None\n",
        "\n",
        "  # Print Function (added)\n",
        "  def printlist(self):\n",
        "    temp = self.head\n",
        "    while(temp):\n",
        "     print(temp.data)\n",
        "     temp=temp.next\n",
        "\n",
        "# Code execution starts here\n",
        "if __name__=='__main__':\n",
        "\n",
        "  # Start with the empty list\n",
        "  llist = LinkedList()\n",
        "\n",
        "  llist.head = Node(1)\n",
        "  second = Node(2)\n",
        "  third = Node(3)\n",
        "\n",
        "\n",
        "\n",
        "  llist.head.next = second; # Linkfirst node with second\n",
        "  second.next = third; # Linksecond node with the third node\n",
        "\n",
        "\n",
        "llist.printlist()"
      ],
      "metadata": {
        "colab": {
          "base_uri": "https://localhost:8080/"
        },
        "id": "6EPpY9sKH-MO",
        "outputId": "2c46ef28-29c6-4d36-910d-1ee4545ac4b0"
      },
      "execution_count": 4,
      "outputs": [
        {
          "output_type": "stream",
          "name": "stdout",
          "text": [
            "1\n",
            "2\n",
            "3\n"
          ]
        }
      ]
    },
    {
      "cell_type": "code",
      "execution_count": 5,
      "metadata": {
        "colab": {
          "base_uri": "https://localhost:8080/"
        },
        "id": "nNRkrVcrFEuA",
        "outputId": "d5f7098d-b25f-4216-cb84-5ea4e031156b"
      },
      "outputs": [
        {
          "output_type": "stream",
          "name": "stdout",
          "text": [
            "1\n",
            "2\n",
            "3\n",
            "2\n",
            "1\n"
          ]
        }
      ],
      "source": [
        "#Doubly Linked List\n",
        "# A simple Python program to introduce a linked list\n",
        "\n",
        "# Node class\n",
        "class Node:\n",
        " # Function to initialize the node object\n",
        " def __init__(self, data):\n",
        "  self.data = data # Assign data\n",
        "  self.next = None # Initialize next as null\n",
        "  self.prev = None # Initialize previous as null (added)\n",
        "\n",
        "# Linked List class contains a Node object\n",
        "class LinkedList:\n",
        "\n",
        "  # Function to initialize head\n",
        "  def __init__(self):\n",
        "    self.head = None\n",
        "\n",
        "  # Print Function (added)\n",
        "  def printlist(self):\n",
        "    temp = self.head\n",
        "    while(temp):\n",
        "     print(temp.data)\n",
        "     temp=temp.next\n",
        "\n",
        "  # Print reverse Function (added)\n",
        "  def printlist2(self):\n",
        "    temp = second\n",
        "    while(temp):\n",
        "     print(temp.data)\n",
        "     temp=temp.prev\n",
        "\n",
        "# Code execution starts here\n",
        "if __name__=='__main__':\n",
        "\n",
        "  # Start with the empty list\n",
        "  llist = LinkedList()\n",
        "\n",
        "  llist.head = Node(1)\n",
        "  second = Node(2)\n",
        "  third = Node(3)\n",
        "\n",
        "\n",
        "\n",
        "  llist.head.next = second; # Linkfirst node with second\n",
        "  second.next = third; # Linksecond node with the third node\n",
        "  second.prev = llist.head; # (added)\n",
        "\n",
        "\n",
        "llist.printlist()\n",
        "llist.printlist2()"
      ]
    }
  ]
}