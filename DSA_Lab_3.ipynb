{
  "nbformat": 4,
  "nbformat_minor": 0,
  "metadata": {
    "colab": {
      "provenance": [],
      "authorship_tag": "ABX9TyNyD+ZveFqF2bMe3Q/g32Oc",
      "include_colab_link": true
    },
    "kernelspec": {
      "name": "python3",
      "display_name": "Python 3"
    },
    "language_info": {
      "name": "python"
    }
  },
  "cells": [
    {
      "cell_type": "markdown",
      "metadata": {
        "id": "view-in-github",
        "colab_type": "text"
      },
      "source": [
        "<a href=\"https://colab.research.google.com/github/martlegaspi/58009---DSAA/blob/main/DSA_Lab_3.ipynb\" target=\"_parent\"><img src=\"https://colab.research.google.com/assets/colab-badge.svg\" alt=\"Open In Colab\"/></a>"
      ]
    },
    {
      "cell_type": "code",
      "execution_count": 2,
      "metadata": {
        "colab": {
          "base_uri": "https://localhost:8080/"
        },
        "id": "aEPT52z8EBoI",
        "outputId": "e936fa12-5d4c-4723-f256-bf0614a87735"
      },
      "outputs": [
        {
          "output_type": "stream",
          "name": "stdout",
          "text": [
            "26 is a even number\n",
            "49 is a odd number\n",
            "98 is a even number\n",
            "87 is a odd number\n",
            "62 is a even number\n",
            "75 is a odd number\n",
            "[26, 98, 62] are the even numbers\n",
            "186 is the sum of the even numbers\n"
          ]
        }
      ],
      "source": [
        "array = [26,49,98,87,62,75]\n",
        "even = []\n",
        "sum = 0\n",
        "\n",
        "for i in array:\n",
        "  if i%2 == 0:\n",
        "    print(i,\"is a even number\")\n",
        "    sum+=i\n",
        "    even.append(i)\n",
        "  else:\n",
        "    print(i,\"is a odd number\")\n",
        "\n",
        "print(even, \"are the even numbers\")\n",
        "print(sum, \"is the sum of the even numbers\")"
      ]
    }
  ]
}