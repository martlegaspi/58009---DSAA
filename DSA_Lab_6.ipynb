{
  "nbformat": 4,
  "nbformat_minor": 0,
  "metadata": {
    "colab": {
      "provenance": [],
      "authorship_tag": "ABX9TyMfHrFz4W1odh65U/XtOS93",
      "include_colab_link": true
    },
    "kernelspec": {
      "name": "python3",
      "display_name": "Python 3"
    },
    "language_info": {
      "name": "python"
    }
  },
  "cells": [
    {
      "cell_type": "markdown",
      "metadata": {
        "id": "view-in-github",
        "colab_type": "text"
      },
      "source": [
        "<a href=\"https://colab.research.google.com/github/martlegaspi/58009---DSAA/blob/main/DSA_Lab_6.ipynb\" target=\"_parent\"><img src=\"https://colab.research.google.com/assets/colab-badge.svg\" alt=\"Open In Colab\"/></a>"
      ]
    },
    {
      "cell_type": "code",
      "execution_count": 2,
      "metadata": {
        "colab": {
          "base_uri": "https://localhost:8080/"
        },
        "id": "iMUR47eeOD1e",
        "outputId": "3f5c6cbd-4dbe-42d8-849c-555957d3f6f5"
      },
      "outputs": [
        {
          "output_type": "stream",
          "name": "stdout",
          "text": [
            "['a', 'b', 'c', 'd', 'e', 'f', 'a', 'c', 'f', 'b', 'd', 'e']\n"
          ]
        }
      ],
      "source": [
        "#1st Method\n",
        "given = [\"a\",\"b\",\"c\",\"d\",\"e\",\"f\"]\n",
        "a = 0\n",
        "x = 1\n",
        "\n",
        "while a <= 2:\n",
        "  given.append(given[a])\n",
        "  a+=2\n",
        "given.append(given[5])\n",
        "while x <= 3:\n",
        "  given.append(given[x])\n",
        "  x+=2\n",
        "given.append(given[4])\n",
        "\n",
        "print(given)"
      ]
    },
    {
      "cell_type": "code",
      "source": [
        "#2nd Method\n",
        "class Node:\n",
        "\n",
        " def __init__(self, data):\n",
        "  self.data = data\n",
        "  self.next = None\n",
        "  self.prev = None\n",
        "\n",
        "class LinkedList:\n",
        "\n",
        "  def __init__(self):\n",
        "    self.head = None\n",
        "    self.tail = None\n",
        "\n",
        "  def add(self, newdata):\n",
        "    NewNode = Node(newdata)\n",
        "    if self.head is None:\n",
        "     self.head = NewNode\n",
        "     return\n",
        "    last = self.head\n",
        "    while(last.next):\n",
        "     last = last.next\n",
        "     self.tail = NewNode\n",
        "    last.next = NewNode\n",
        "    NewNode.prev = last\n",
        "\n",
        "  def front(self, newdata):\n",
        "    self.tail = self.tail\n",
        "    NewNode = Node(newdata)\n",
        "    if self.head is None:\n",
        "     self.head = NewNode\n",
        "    else:\n",
        "     NewNode.next = self.head\n",
        "     self.head.prev = NewNode\n",
        "     self.head = NewNode\n",
        "\n",
        "\n",
        "  def length(self):\n",
        "    temp = self.head\n",
        "    count = 0\n",
        "    while temp is not None:\n",
        "     temp = temp.next\n",
        "     count += 1\n",
        "    return count\n",
        "\n",
        "  def revprint(self):\n",
        "    temp = self.tail\n",
        "    while(temp):\n",
        "     if temp == self.head:\n",
        "      print(temp.data, 'is the head')\n",
        "      temp=temp.prev\n",
        "     elif temp == self.tail:\n",
        "      print(temp.data, 'is the tail')\n",
        "      temp=temp.prev\n",
        "     else:\n",
        "      print(temp.data)\n",
        "      temp=temp.prev\n",
        "\n",
        "link = LinkedList()\n",
        "item = []\n",
        "\n",
        "while True:\n",
        " x = input(\"Enter a comand 'a' to append, 'i' to insert at the front, 'p' to print, 'c' to count, 'x' to exit: \")\n",
        " if x == \"a\":\n",
        "  a = input(\"Input to append: \")\n",
        "  link.add(a)\n",
        "  item.append(a)\n",
        " elif x == \"i\":\n",
        "  a = input(\"Input to insert at the front: \")\n",
        "  link.front(a)\n",
        "  item.insert(0, a)\n",
        " elif x == \"p\":\n",
        "  print(item)\n",
        "  link.revprint()\n",
        " elif x == \"c\":\n",
        "  print(\"The length of the items is:\", link.length())\n",
        " elif x == \"x\":\n",
        "  break\n",
        " else:\n",
        "   print(\"You did not enter the corrrect command\")"
      ],
      "metadata": {
        "colab": {
          "base_uri": "https://localhost:8080/"
        },
        "id": "02-cODFKOoCF",
        "outputId": "aad934f5-cfaa-404f-84df-c97cbb1b358b"
      },
      "execution_count": 8,
      "outputs": [
        {
          "name": "stdout",
          "output_type": "stream",
          "text": [
            "Enter a comand 'a' to append, 'i' to insert at the front, 'p' to print, 'c' to count, 'x' to exit: a\n",
            "Input to append: 1\n",
            "Enter a comand 'a' to append, 'i' to insert at the front, 'p' to print, 'c' to count, 'x' to exit: a\n",
            "Input to append: 2\n",
            "Enter a comand 'a' to append, 'i' to insert at the front, 'p' to print, 'c' to count, 'x' to exit: a\n",
            "Input to append: 3\n",
            "Enter a comand 'a' to append, 'i' to insert at the front, 'p' to print, 'c' to count, 'x' to exit: i\n",
            "Input to insert at the front: 4\n",
            "Enter a comand 'a' to append, 'i' to insert at the front, 'p' to print, 'c' to count, 'x' to exit: p\n",
            "['4', '1', '2', '3']\n",
            "3 is the tail\n",
            "2\n",
            "1\n",
            "4 is the head\n",
            "Enter a comand 'a' to append, 'i' to insert at the front, 'p' to print, 'c' to count, 'x' to exit: c\n",
            "The length of the items is: 4\n",
            "Enter a comand 'a' to append, 'i' to insert at the front, 'p' to print, 'c' to count, 'x' to exit: a\n",
            "Input to append: 5\n",
            "Enter a comand 'a' to append, 'i' to insert at the front, 'p' to print, 'c' to count, 'x' to exit: p\n",
            "['4', '1', '2', '3', '5']\n",
            "5 is the tail\n",
            "3\n",
            "2\n",
            "1\n",
            "4 is the head\n",
            "Enter a comand 'a' to append, 'i' to insert at the front, 'p' to print, 'c' to count, 'x' to exit: c\n",
            "The length of the items is: 5\n",
            "Enter a comand 'a' to append, 'i' to insert at the front, 'p' to print, 'c' to count, 'x' to exit: i\n",
            "Input to insert at the front: 6\n",
            "Enter a comand 'a' to append, 'i' to insert at the front, 'p' to print, 'c' to count, 'x' to exit: p\n",
            "['6', '4', '1', '2', '3', '5']\n",
            "5 is the tail\n",
            "3\n",
            "2\n",
            "1\n",
            "4\n",
            "6 is the head\n",
            "Enter a comand 'a' to append, 'i' to insert at the front, 'p' to print, 'c' to count, 'x' to exit: c\n",
            "The length of the items is: 6\n",
            "Enter a comand 'a' to append, 'i' to insert at the front, 'p' to print, 'c' to count, 'x' to exit: x\n"
          ]
        }
      ]
    }
  ]
}