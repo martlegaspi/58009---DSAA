{
  "nbformat": 4,
  "nbformat_minor": 0,
  "metadata": {
    "colab": {
      "provenance": [],
      "authorship_tag": "ABX9TyN0OGiPVOFqBT4Sr8U1KoAX",
      "include_colab_link": true
    },
    "kernelspec": {
      "name": "python3",
      "display_name": "Python 3"
    },
    "language_info": {
      "name": "python"
    }
  },
  "cells": [
    {
      "cell_type": "markdown",
      "metadata": {
        "id": "view-in-github",
        "colab_type": "text"
      },
      "source": [
        "<a href=\"https://colab.research.google.com/github/martlegaspi/58009---DSAA/blob/main/Activity_2.ipynb\" target=\"_parent\"><img src=\"https://colab.research.google.com/assets/colab-badge.svg\" alt=\"Open In Colab\"/></a>"
      ]
    },
    {
      "cell_type": "code",
      "execution_count": 2,
      "metadata": {
        "colab": {
          "base_uri": "https://localhost:8080/"
        },
        "id": "NdlmEEqUtmVi",
        "outputId": "fb2d4f23-39d6-45e8-abfc-cc20f6d567ef"
      },
      "outputs": [
        {
          "output_type": "stream",
          "name": "stdout",
          "text": [
            "The head is 2\n",
            "3\n",
            "5\n",
            "7\n",
            "11\n",
            "13\n",
            "17\n",
            "The tail is 19\n"
          ]
        }
      ],
      "source": [
        "class Node:\n",
        "\n",
        " def __init__(self, data):\n",
        "  self.data = data\n",
        "  self.next = None\n",
        "  self.tail = None\n",
        "\n",
        "class LinkedList:\n",
        "\n",
        "  def __init__(self):\n",
        "    self.head = None\n",
        "\n",
        "  def printlist(self):\n",
        "    temp = llist.head\n",
        "    while(temp):\n",
        "     if temp == llist.head:\n",
        "      print('The head is', temp.data)\n",
        "      temp=temp.next\n",
        "     elif temp != llist.tail:\n",
        "      print(temp.data)\n",
        "      temp=temp.next\n",
        "     else:\n",
        "      print('The tail is',temp.data)\n",
        "      temp=temp.next\n",
        "\n",
        "if __name__=='__main__':\n",
        "\n",
        "  llist = LinkedList()\n",
        "\n",
        "  llist.head = Node(2)\n",
        "  second = Node(3)\n",
        "  third = Node(5)\n",
        "  fourth = Node(7)\n",
        "  fifth = Node(11)\n",
        "  sixth = Node(13)\n",
        "  seventh = Node(17)\n",
        "  llist.tail = Node(19)\n",
        "\n",
        "  llist.head.next = second;\n",
        "  second.next = third;\n",
        "  third.next = fourth;\n",
        "  fourth.next = fifth;\n",
        "  fifth.next = sixth;\n",
        "  sixth.next = seventh;\n",
        "  seventh.next = llist.tail;\n",
        "\n",
        "llist.printlist()"
      ]
    }
  ]
}