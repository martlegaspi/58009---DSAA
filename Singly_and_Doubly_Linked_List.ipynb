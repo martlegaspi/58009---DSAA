{
  "nbformat": 4,
  "nbformat_minor": 0,
  "metadata": {
    "colab": {
      "provenance": [],
      "authorship_tag": "ABX9TyPvZyx++qJkPKgqrF2m8gPN",
      "include_colab_link": true
    },
    "kernelspec": {
      "name": "python3",
      "display_name": "Python 3"
    },
    "language_info": {
      "name": "python"
    }
  },
  "cells": [
    {
      "cell_type": "markdown",
      "metadata": {
        "id": "view-in-github",
        "colab_type": "text"
      },
      "source": [
        "<a href=\"https://colab.research.google.com/github/martlegaspi/58009---DSAA/blob/main/Singly_and_Doubly_Linked_List.ipynb\" target=\"_parent\"><img src=\"https://colab.research.google.com/assets/colab-badge.svg\" alt=\"Open In Colab\"/></a>"
      ]
    },
    {
      "cell_type": "code",
      "execution_count": 2,
      "metadata": {
        "colab": {
          "base_uri": "https://localhost:8080/"
        },
        "id": "nNRkrVcrFEuA",
        "outputId": "648b0ea2-de0c-406d-9512-4f44ddad7e2f"
      },
      "outputs": [
        {
          "output_type": "stream",
          "name": "stdout",
          "text": [
            "1\n",
            "2\n",
            "3\n",
            "2\n",
            "1\n"
          ]
        }
      ],
      "source": [
        "# A simple Python program to introduce a linked list\n",
        "\n",
        "# Node class\n",
        "class Node:\n",
        " # Function to initialize the node object\n",
        " def __init__(self, data):\n",
        "  self.data = data # Assign data\n",
        "  self.next = None # Initialize next as null\n",
        "  self.prev = None # Initialize previous as null (added)\n",
        "\n",
        "# Linked List class contains a Node object\n",
        "class LinkedList:\n",
        "\n",
        "  # Function to initialize head\n",
        "  def __init__(self):\n",
        "    self.head = None\n",
        "\n",
        "  # Print Function (added)\n",
        "  def printlist(self):\n",
        "    temp = self.head\n",
        "    while(temp):\n",
        "     print(temp.data)\n",
        "     temp=temp.next\n",
        "\n",
        "  # Print reverse Function (added)\n",
        "  def printlist2(self):\n",
        "    temp = second\n",
        "    while(temp):\n",
        "     print(temp.data)\n",
        "     temp=temp.prev\n",
        "\n",
        "# Code execution starts here\n",
        "if __name__=='__main__':\n",
        "\n",
        "  # Start with the empty list\n",
        "  llist = LinkedList()\n",
        "\n",
        "  llist.head = Node(1)\n",
        "  second = Node(2)\n",
        "  third = Node(3)\n",
        "\n",
        "\n",
        "\n",
        "  llist.head.next = second; # Linkfirst node with second\n",
        "  second.next = third; # Linksecond node with the third node\n",
        "  second.prev = llist.head; # (added)\n",
        "\n",
        "\n",
        "llist.printlist()\n",
        "llist.printlist2()"
      ]
    }
  ]
}