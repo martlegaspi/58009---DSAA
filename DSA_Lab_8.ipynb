{
  "nbformat": 4,
  "nbformat_minor": 0,
  "metadata": {
    "colab": {
      "provenance": [],
      "authorship_tag": "ABX9TyPB1NNfjyT4TwxvaEvLEmpH",
      "include_colab_link": true
    },
    "kernelspec": {
      "name": "python3",
      "display_name": "Python 3"
    },
    "language_info": {
      "name": "python"
    }
  },
  "cells": [
    {
      "cell_type": "markdown",
      "metadata": {
        "id": "view-in-github",
        "colab_type": "text"
      },
      "source": [
        "<a href=\"https://colab.research.google.com/github/martlegaspi/58009---DSAA/blob/main/DSA_Lab_8.ipynb\" target=\"_parent\"><img src=\"https://colab.research.google.com/assets/colab-badge.svg\" alt=\"Open In Colab\"/></a>"
      ]
    },
    {
      "cell_type": "code",
      "execution_count": 7,
      "metadata": {
        "id": "BKhmPBzsPKH4",
        "colab": {
          "base_uri": "https://localhost:8080/"
        },
        "outputId": "3ed6966e-efe7-4570-beb8-531a20ed8bd0"
      },
      "outputs": [
        {
          "output_type": "stream",
          "name": "stdout",
          "text": [
            "Enqueued Element: 1\n",
            "Enqueued Element: 2\n",
            "Enqueued Element: 3\n",
            "Enqueued Element: 4\n",
            "Enqueued Element: 5\n",
            "The elements in the stack are:['1', '2', '3', '4', '5']\n",
            "Dequeued Element: 1\n",
            "The elements in the stack are:['2', '3', '4', '5']\n",
            "Dequeued Element: 2\n",
            "The elements in the stack are:['3', '4', '5']\n"
          ]
        }
      ],
      "source": [
        "# Reconstructed Stack implementation into Queue implementation python\n",
        "\n",
        "# Creating a queue\n",
        "def create_stack():\n",
        "  stack = []\n",
        "  return stack\n",
        "\n",
        "# Creating an empty queue\n",
        "def is_empty(stack):\n",
        "  return len(stack) == 0\n",
        "\n",
        "# Adding items into the queue\n",
        "def push(stack, item):\n",
        "  stack.append(item)\n",
        "  print(\"Enqueued Element: \" + item)\n",
        "\n",
        "# Removing an element from the queue\n",
        "def pop(stack):\n",
        "  if (is_empty(stack)):\n",
        "   return \"The stack is empty\"\n",
        "  return print(\"Dequeued Element: \" + stack.pop(0))\n",
        "\n",
        "stack = create_stack()\n",
        "push(stack, str(1))\n",
        "push(stack, str(2))\n",
        "push(stack, str(3))\n",
        "push(stack, str(4))\n",
        "push(stack, str(5))\n",
        "\n",
        "print(\"The elements in the stack are:\"+ str(stack))\n",
        "\n",
        "pop(stack)\n",
        "\n",
        "print(\"The elements in the stack are:\"+ str(stack))\n",
        "\n",
        "pop(stack)\n",
        "\n",
        "print(\"The elements in the stack are:\"+ str(stack))"
      ]
    }
  ]
}