{
  "nbformat": 4,
  "nbformat_minor": 0,
  "metadata": {
    "colab": {
      "provenance": [],
      "authorship_tag": "ABX9TyOVlPxYHOzqDrKuurn8r4MD",
      "include_colab_link": true
    },
    "kernelspec": {
      "name": "python3",
      "display_name": "Python 3"
    },
    "language_info": {
      "name": "python"
    }
  },
  "cells": [
    {
      "cell_type": "markdown",
      "metadata": {
        "id": "view-in-github",
        "colab_type": "text"
      },
      "source": [
        "<a href=\"https://colab.research.google.com/github/martlegaspi/58009---DSAA/blob/main/DSA_Lab_7.ipynb\" target=\"_parent\"><img src=\"https://colab.research.google.com/assets/colab-badge.svg\" alt=\"Open In Colab\"/></a>"
      ]
    },
    {
      "cell_type": "code",
      "execution_count": 1,
      "metadata": {
        "colab": {
          "base_uri": "https://localhost:8080/"
        },
        "id": "FSlchWBI7A7c",
        "outputId": "1cf06be7-c06d-4053-ac80-30277fcba1c2"
      },
      "outputs": [
        {
          "output_type": "stream",
          "name": "stdout",
          "text": [
            "2 is a prime number\n",
            "3 is a prime number\n",
            "4 is not a prime number\n",
            "5 is a prime number\n",
            "6 is not a prime number\n",
            "7 is a prime number\n",
            "8 is not a prime number\n",
            "9 is not a prime number\n",
            "10 is not a prime number\n",
            "11 is a prime number\n",
            "12 is not a prime number\n",
            "13 is a prime number\n",
            "14 is not a prime number\n",
            "15 is not a prime number\n",
            "16 is not a prime number\n",
            "17 is a prime number\n",
            "18 is not a prime number\n",
            "19 is a prime number\n",
            "20 is not a prime number\n",
            "The prime numbers are: [2, 3, 5, 7, 11, 13, 17, 19]\n",
            "2 is the head\n",
            "3\n",
            "5\n",
            "7\n",
            "11\n",
            "13\n",
            "17\n",
            "19 is the tail\n"
          ]
        }
      ],
      "source": [
        "class Node:\n",
        "\n",
        " def __init__(self, data):\n",
        "  self.data = data\n",
        "  self.next = None\n",
        "  self.prev = None\n",
        "\n",
        "class LinkedList:\n",
        "\n",
        "  def __init__(self):\n",
        "    self.head = None\n",
        "    self.tail = None\n",
        "\n",
        "  def printlist(self):\n",
        "    temp = llist.head\n",
        "    while(temp):\n",
        "     if temp == llist.head:\n",
        "      print(temp.data, 'is the head')\n",
        "      temp=temp.next\n",
        "     if temp == llist.tail:\n",
        "      print(temp.data, 'is the tail')\n",
        "      temp=temp.next\n",
        "     else:\n",
        "      print(temp.data)\n",
        "      temp=temp.next\n",
        "\n",
        "  def add(self, newdata):\n",
        "    NewNode = Node(newdata)\n",
        "\n",
        "    if self.head is None:\n",
        "     self.head = NewNode\n",
        "     return\n",
        "\n",
        "    last = self.head\n",
        "    while(last.next):\n",
        "     last = last.next\n",
        "     self.tail = NewNode\n",
        "    last.next = NewNode\n",
        "\n",
        "llist = LinkedList()\n",
        "narray = []\n",
        "num = 2\n",
        "\n",
        "\n",
        "\n",
        "while (num <= 20):\n",
        " if num > 1:\n",
        "     for i in range(2, int(num/2)+1):\n",
        "         if (num % i) == 0:\n",
        "             print(num, \"is not a prime number\")\n",
        "             num += 1\n",
        "             break\n",
        "     else:\n",
        "         print(num, \"is a prime number\")\n",
        "         llist.add(num)\n",
        "         narray.append(num)\n",
        "         num += 1\n",
        " else:\n",
        "     print(num, \"is not a prime number\")\n",
        "     num += 1\n",
        "\n",
        "print('The prime numbers are:',narray)\n",
        "\n",
        "llist.printlist()"
      ]
    }
  ]
}