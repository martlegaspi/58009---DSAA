{
  "nbformat": 4,
  "nbformat_minor": 0,
  "metadata": {
    "colab": {
      "provenance": [],
      "authorship_tag": "ABX9TyOcGJVnO4qfKZz4WRUV+j+t",
      "include_colab_link": true
    },
    "kernelspec": {
      "name": "python3",
      "display_name": "Python 3"
    },
    "language_info": {
      "name": "python"
    }
  },
  "cells": [
    {
      "cell_type": "markdown",
      "metadata": {
        "id": "view-in-github",
        "colab_type": "text"
      },
      "source": [
        "<a href=\"https://colab.research.google.com/github/martlegaspi/58009---DSAA/blob/main/Long_Quiz_2.ipynb\" target=\"_parent\"><img src=\"https://colab.research.google.com/assets/colab-badge.svg\" alt=\"Open In Colab\"/></a>"
      ]
    },
    {
      "cell_type": "code",
      "execution_count": 5,
      "metadata": {
        "id": "CBQe6hX82uoM",
        "colab": {
          "base_uri": "https://localhost:8080/"
        },
        "outputId": "8b18c2fc-cfae-4d2e-bc1d-1878734e2ea0"
      },
      "outputs": [
        {
          "output_type": "stream",
          "name": "stdout",
          "text": [
            "The graph vertices = ['E', 'F', 'H', 'I', 'J', 'K', 'M', 'P']\n",
            "The graph edges = [{'I', 'E'}, {'E', 'J'}, {'E', 'K'}, {'M', 'E'}, {'F', 'I'}, {'F', 'J'}, {'F', 'K'}, {'F', 'P'}, {'H', 'I'}, {'H', 'J'}, {'H', 'K'}]\n"
          ]
        }
      ],
      "source": [
        "class graph:\n",
        "   def __init__(self,gdict=None):\n",
        "      if gdict is None:\n",
        "         gdict = []\n",
        "      self.gdict = gdict\n",
        "   def getVertices(self):\n",
        "      return list(self.gdict.keys())\n",
        "\n",
        "graph_elements = {\n",
        "   \"E\" : [\"I\",\"J\",\"K\",\"M\"],\n",
        "   \"F\" : [\"I\", \"J\",\"K\",\"P\"],\n",
        "   \"H\" : [\"I\", \"J\",\"K\"],\n",
        "   \"I\" : [\"E\",\"F\",\"H\"],\n",
        "   \"J\" : [\"E\",\"F\",\"H\"],\n",
        "   \"K\" : [\"E\",\"F\",\"H\"],\n",
        "   \"M\" : [\"E\"],\n",
        "   \"P\" : [\"F\"]\n",
        "}\n",
        "g = graph(graph_elements)\n",
        "print(\"The graph vertices =\",g.getVertices())\n",
        "\n",
        "class graph:\n",
        "   def __init__(self,gdict=None):\n",
        "      if gdict is None:\n",
        "         gdict = {}\n",
        "      self.gdict = gdict\n",
        "   def edges(self):\n",
        "      return self.findedges()\n",
        "   def findedges(self):\n",
        "      edgename = []\n",
        "      for vrtx in self.gdict:\n",
        "         for nxtvrtx in self.gdict[vrtx]:\n",
        "            if {nxtvrtx, vrtx} not in edgename:\n",
        "               edgename.append({vrtx, nxtvrtx})\n",
        "      return edgename\n",
        "\n",
        "graph_elements = {\n",
        "   \"E\" : [\"I\",\"J\",\"K\",\"M\"],\n",
        "   \"F\" : [\"I\", \"J\",\"K\",\"P\"],\n",
        "   \"H\" : [\"I\", \"J\",\"K\"],\n",
        "   \"I\" : [\"E\",\"F\",\"H\"],\n",
        "   \"J\" : [\"E\",\"F\",\"H\"],\n",
        "   \"K\" : [\"E\",\"F\",\"H\"],\n",
        "   \"M\" : [\"E\"],\n",
        "   \"P\" : [\"F\"]\n",
        "}\n",
        "g = graph(graph_elements)\n",
        "print(\"The graph edges =\",g.edges())"
      ]
    }
  ]
}